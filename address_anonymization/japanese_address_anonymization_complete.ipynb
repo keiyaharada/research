{
 "cells": [
  {
   "cell_type": "markdown",
   "metadata": {},
   "source": [
    "# The python program of anonymizing address data(string data)"
   ]
  },
  {
   "cell_type": "markdown",
   "metadata": {},
   "source": [
    "## The main idea of how the coding works\n",
    "\n",
    "1. The Japanese address data is change in to a latin alphabet (60letters at maximum)\n",
    "  \n",
    "  \n",
    "2. Then it is changed to a binary format  \n",
    "  \n",
    "  \n",
    "3. The binary format is divided into 10 groups(each group contains 6letters = 8bits)  \n",
    "  \n",
    "  \n",
    "4. Each binary format in the group is changed into a float point value  \n",
    "  \n",
    "  \n",
    "5. Then for each id we make a dictionary data which is something like below  \n",
    "  \n",
    ">{'address': '小田原市田島１９４番地の１６',  \n",
    " 'address_english': 'odawaraichidashima194banchino16',  \n",
    " 'address_binary': '011011110110010001100001011101110110000101110010011000010110100101100011011010000110100101100100011000010111001101101000011010010110110101100001001100010011100100110100011000100110000101101110011000110110100001101001011011100110111100110001001101100000000000000000000000000000000000000000000000000000000000000000000000000000000000000000000000000000000000000000000000000000000000000000000000000000000000000000000000000000000000000000000000000000000000000000000000000000000000000000',  \n",
    " 'address_float_0': '0111111111011011110110010001100001011101110110000101110010011011',  \n",
    " 'address_float_value_0': 7.822220133298268e+307,  \n",
    " 'address_float_1': '0111111111011000010110000000000000000000000000000000000000000000',  \n",
    " 'address_float_value_1': 0.0,  \n",
    " 'address_float_2': '0000000000000000000000000000000000000000000000000000000000000000',  \n",
    " 'address_float_value_2': 0.0,  \n",
    " 'address_float_3': '0000000000000000000000000000000000000000000000000000000000000000',  \n",
    " 'address_float_value_3': 0.0,  \n",
    " 'address_float_4': '0000000000000000000000000000000000000000000000000000000000000000',  \n",
    " 'address_float_value_4': 0.0,  \n",
    " 'address_float_5': '0000000000000000000000000000000000000000000000000000000000000000',  \n",
    " 'address_float_value_5': 0.0,  \n",
    " 'address_float_6': '0000000000000000000000000000000000000000000000000000000000000000',  \n",
    " 'address_float_value_6': 0.0,  \n",
    " 'address_float_7': '0000000000000000000000000000000000000000000000000000000000000000',  \n",
    " 'address_float_value_7': 0.0,  \n",
    " 'address_float_8': '0000000000000000000000000000000000000000000000000000000000000000',  \n",
    " 'address_float_value_8': 0.0,  \n",
    " 'address_float_9': '0000000000000000000000000000000000000000000000000000000000000000',  \n",
    " 'address_float_value_9': 0.0,  \n",
    " 'group': [0, 7, 0, 0, 0, 0, 0, 0, 0, 0]}  \n",
    " \n",
    " \n",
    "6. We look at the element from address_float_0 and group out the data which has the same value and insert the group number in the group element inside the dictionary data \n",
    "\n",
    "\n",
    "7. See if there is at least k number of data in each group. If this is satisfy we move on to 12.\n",
    "\n",
    "\n",
    "8. If 7 was not satisfied we put the data that has less than k into another group which has the closest float value\n",
    "\n",
    "\n",
    "9. After that we look at the groups which was fused and see how much bits are needed to be deleted to have the same value and convert the bits into 0\n",
    "\n",
    "\n",
    "10. The other elements after the address_float_0 is converted to 0 if the group was changed\n",
    "\n",
    "\n",
    "11. We change the address_float_0 and group element inside the dictionary data according to 7~10\n",
    "\n",
    "\n",
    "12. We do 6~10 in the order of address_float_1 to address_float_9\n",
    "    - From address float_1 to address_float_9 to connect the groups the the elements in the group has to be all the same except for the current group number you added "
   ]
  },
  {
   "cell_type": "markdown",
   "metadata": {},
   "source": [
    "## importing libraries"
   ]
  },
  {
   "cell_type": "code",
   "execution_count": 1,
   "metadata": {},
   "outputs": [],
   "source": [
    "#importing libralies that are needed\n",
    "import numpy as np\n",
    "import pandas as pd\n",
    "import matplotlib.pyplot as plt\n",
    "%matplotlib inline\n",
    "from pykakasi import kakasi\n",
    "import mojimoji\n",
    "import struct\n",
    "from collections import Counter\n",
    "import time\n",
    "import copy"
   ]
  },
  {
   "cell_type": "markdown",
   "metadata": {},
   "source": [
    "## defining the function"
   ]
  },
  {
   "cell_type": "markdown",
   "metadata": {},
   "source": [
    "### functions neccesary for the conversion"
   ]
  },
  {
   "cell_type": "code",
   "execution_count": 2,
   "metadata": {},
   "outputs": [],
   "source": [
    "#defining the functions that will be used in this program\n",
    "\n",
    "#changing the numbers into double precision\n",
    "def binary(num):\n",
    "    return ''.join(bin(c).replace('0b', '').rjust(8, '0') for c in struct.pack('!d', num))\n",
    "\n",
    "#changing the double float in to a number\n",
    "def float_to_num(target):\n",
    "    for i in range(0,len(target),8):\n",
    "        if i == 0:\n",
    "            tmp = struct.pack(\"!B\",int(target[i:i+8],2))\n",
    "        else:\n",
    "            tmp = tmp + struct.pack(\"!B\",int(target[i:i+8],2))\n",
    "    return np.float64(struct.unpack(\"!d\",tmp)[0])"
   ]
  },
  {
   "cell_type": "markdown",
   "metadata": {},
   "source": [
    "### functions that are neccesary for the anonymization"
   ]
  },
  {
   "cell_type": "code",
   "execution_count": 3,
   "metadata": {},
   "outputs": [],
   "source": [
    "def make_not_anonymized_list_initial(data_dict,data,k):\n",
    "    tmp = data[\"address_float_0\"].unique()\n",
    "    not_anonymized_list = []\n",
    "    group_list = []\n",
    "    for x,tm in enumerate(tmp):\n",
    "        a = 0\n",
    "        group = []\n",
    "        for i in data_dict:\n",
    "            if tm == data_dict[i][\"address_float_0\"]:\n",
    "                data_dict[i][\"group\"] = [x]\n",
    "                group.append(i)\n",
    "                a += 1\n",
    "        group_list.append(group)\n",
    "        if 0<a<k:\n",
    "            not_anonymized_list.append(group)\n",
    "    print(len(not_anonymized_list))\n",
    "    return data_dict"
   ]
  },
  {
   "cell_type": "code",
   "execution_count": 4,
   "metadata": {},
   "outputs": [],
   "source": [
    "def make_group_list(data_dict,num):\n",
    "    unique_float_list = []\n",
    "    for i in data_dict:\n",
    "        unique_float_list.append(data_dict[i][\"address_float_{}\".format(num)])\n",
    "    unique_float_list = np.unique(np.array(unique_float_list))\n",
    "    group_list_tmp = [data_dict[i][\"group\"] for i in range(len(data_dict))]\n",
    "    address_float_list = [data_dict[i][\"address_float_{}\".format(num)] for i in range(len(data_dict))]\n",
    "    for x,unique in enumerate(unique_float_list):\n",
    "        for i in data_dict:\n",
    "            if unique == address_float_list[i]:\n",
    "                group_list_tmp[i].append(x)\n",
    "    return group_list_tmp"
   ]
  },
  {
   "cell_type": "code",
   "execution_count": 5,
   "metadata": {},
   "outputs": [],
   "source": [
    "def make_not_anonymized_and_group_list(data_dict,group_list_tmp,k):\n",
    "    unique_group_list = []\n",
    "    for i in data_dict:\n",
    "        if data_dict[i][\"group\"] not in unique_group_list:\n",
    "            unique_group_list.append(copy.deepcopy(data_dict[i][\"group\"]))\n",
    "    group_list = []\n",
    "    not_anonymized_list = []\n",
    "    for unique in unique_group_list:\n",
    "        group = []\n",
    "        for x,tmp in enumerate(group_list_tmp):\n",
    "            if tmp == unique:\n",
    "                group.append(x)\n",
    "        group_list.append(group)\n",
    "        if 0 < len(group) < k:\n",
    "            not_anonymized_list.append(group)\n",
    "    return [group_list, not_anonymized_list]"
   ]
  },
  {
   "cell_type": "code",
   "execution_count": 6,
   "metadata": {},
   "outputs": [],
   "source": [
    "def make_anonymized_group_list(group_list,not_anonymized_list,data_dict,k,num):\n",
    "    start = time.time()\n",
    "    while len(not_anonymized_list) != 0:\n",
    "        for not_anonymized in not_anonymized_list:\n",
    "            diff = 0\n",
    "            for x,i in enumerate(group_list):\n",
    "                if data_dict[not_anonymized[0]][\"group\"] != data_dict[i[0]][\"group\"] and data_dict[not_anonymized[0]][\"group\"][:-1] == data_dict[i[0]][\"group\"][:-1]:\n",
    "                    if diff == 0:\n",
    "                        diff = abs(data_dict[not_anonymized[0]][\"address_float_value_{}\".format(num)]-data_dict[i[0]][\"address_float_value_{}\".format(num)])\n",
    "                        closest_group = data_dict[i[0]][\"group\"][-1]\n",
    "                        closest_group_num = x\n",
    "                    elif diff > abs(data_dict[not_anonymized[0]][\"address_float_value_{}\".format(num)]-data_dict[i[0]][\"address_float_value_{}\".format(num)]):\n",
    "                        diff = abs(data_dict[not_anonymized[0]][\"address_float_value_{}\".format(num)]-data_dict[i[0]][\"address_float_value_{}\".format(num)])\n",
    "                        closest_group = data_dict[i[0]][\"group\"][-1]\n",
    "                        closest_group_num = x\n",
    "            for j in not_anonymized:\n",
    "                group_list[closest_group_num].append(j)\n",
    "                data_dict[j][\"group\"][-1] = closest_group\n",
    "            group_list.remove(not_anonymized)\n",
    "            break\n",
    "        not_anonymized_list = []\n",
    "        for group in group_list:\n",
    "            if 0 < len(group) < k:\n",
    "                not_anonymized_list.append(group)\n",
    "    return group_list,data_dict"
   ]
  },
  {
   "cell_type": "code",
   "execution_count": 7,
   "metadata": {},
   "outputs": [],
   "source": [
    "def make_anonymized_data_dict(group_list,data_dict,precision_num,num_1):\n",
    "    for group in group_list:\n",
    "        anonymized_data_list = []\n",
    "        for x,i in enumerate(group):\n",
    "            tmp = data_dict[i][\"address_float_{}\".format(num_1)]\n",
    "            if x == 0:\n",
    "                fix = data_dict[i][\"address_float_{}\".format(num_1)]\n",
    "            elif fix != tmp:\n",
    "                for k in range(1,precision_num):\n",
    "                    if fix[0:-k] == tmp[0:-k]:\n",
    "                        anonymized_data_list.append(fix[0:-k] + \"\".join(\"0\" for l in range(k)))\n",
    "                        break\n",
    "        if len(anonymized_data_list)>0:\n",
    "            for x,anony in enumerate(anonymized_data_list):\n",
    "                if x == 0:\n",
    "                    anonymized_data = anony\n",
    "                elif anonymized_data != anony:\n",
    "                    for k in range(1,precision_num):\n",
    "                        if anonymized_data[0:-k] == anony[0:-k]:\n",
    "                            anonymized_data = (anonymized_data[0:-k] + \"\".join(\"0\" for l in range(k)))\n",
    "                            break\n",
    "            key_list = list(data_dict[0].keys())\n",
    "            key_num = key_list.index(\"address_float_{}\".format(num_1))\n",
    "            for x,i in enumerate(group):\n",
    "                data_dict[i][\"address_float_{}\".format(num_1)] = anonymized_data\n",
    "                for num in range(key_num+1,len(key_list)-1):\n",
    "                    if num%2 == 1:\n",
    "                        data_dict[i][key_list[num]] = \"\".join(\"0\" for l in range(precision_num))\n",
    "                    else:\n",
    "                        data_dict[i][key_list[num]] = np.float64(0)\n",
    "    return data_dict"
   ]
  },
  {
   "cell_type": "markdown",
   "metadata": {},
   "source": [
    "## Making the data "
   ]
  },
  {
   "cell_type": "code",
   "execution_count": 8,
   "metadata": {},
   "outputs": [],
   "source": [
    "#initial coding to convert the japanese character into a latin alphabet\n",
    "kakasi = kakasi()\n",
    "kakasi.setMode('H', 'a')\n",
    "kakasi.setMode('K', 'a')\n",
    "kakasi.setMode('J', 'a')\n",
    "conv = kakasi.getConverter()"
   ]
  },
  {
   "cell_type": "code",
   "execution_count": 9,
   "metadata": {},
   "outputs": [
    {
     "data": {
      "text/html": [
       "<div>\n",
       "<style scoped>\n",
       "    .dataframe tbody tr th:only-of-type {\n",
       "        vertical-align: middle;\n",
       "    }\n",
       "\n",
       "    .dataframe tbody tr th {\n",
       "        vertical-align: top;\n",
       "    }\n",
       "\n",
       "    .dataframe thead th {\n",
       "        text-align: right;\n",
       "    }\n",
       "</style>\n",
       "<table border=\"1\" class=\"dataframe\">\n",
       "  <thead>\n",
       "    <tr style=\"text-align: right;\">\n",
       "      <th></th>\n",
       "      <th>company_name</th>\n",
       "      <th>company_group_id</th>\n",
       "      <th>address_1</th>\n",
       "      <th>address_2</th>\n",
       "      <th>address_3</th>\n",
       "    </tr>\n",
       "  </thead>\n",
       "  <tbody>\n",
       "    <tr>\n",
       "      <th>0</th>\n",
       "      <td>藤沢簡易裁判所</td>\n",
       "      <td>101</td>\n",
       "      <td>神奈川県</td>\n",
       "      <td>藤沢市</td>\n",
       "      <td>朝日町１−８</td>\n",
       "    </tr>\n",
       "    <tr>\n",
       "      <th>1</th>\n",
       "      <td>神奈川県</td>\n",
       "      <td>201</td>\n",
       "      <td>神奈川県</td>\n",
       "      <td>横浜市中区</td>\n",
       "      <td>日本大通１</td>\n",
       "    </tr>\n",
       "    <tr>\n",
       "      <th>2</th>\n",
       "      <td>相模原市</td>\n",
       "      <td>201</td>\n",
       "      <td>神奈川県</td>\n",
       "      <td>相模原市中央区</td>\n",
       "      <td>中央２丁目１１−１５</td>\n",
       "    </tr>\n",
       "    <tr>\n",
       "      <th>3</th>\n",
       "      <td>小田原市</td>\n",
       "      <td>201</td>\n",
       "      <td>神奈川県</td>\n",
       "      <td>小田原市</td>\n",
       "      <td>荻窪３００</td>\n",
       "    </tr>\n",
       "    <tr>\n",
       "      <th>4</th>\n",
       "      <td>茅ヶ崎市</td>\n",
       "      <td>201</td>\n",
       "      <td>神奈川県</td>\n",
       "      <td>茅ヶ崎市</td>\n",
       "      <td>茅ヶ崎１丁目１−１</td>\n",
       "    </tr>\n",
       "  </tbody>\n",
       "</table>\n",
       "</div>"
      ],
      "text/plain": [
       "  company_name  company_group_id address_1 address_2   address_3\n",
       "0      藤沢簡易裁判所               101      神奈川県       藤沢市      朝日町１−８\n",
       "1         神奈川県               201      神奈川県     横浜市中区       日本大通１\n",
       "2         相模原市               201      神奈川県   相模原市中央区  中央２丁目１１−１５\n",
       "3         小田原市               201      神奈川県      小田原市       荻窪３００\n",
       "4         茅ヶ崎市               201      神奈川県      茅ヶ崎市   茅ヶ崎１丁目１−１"
      ]
     },
     "execution_count": 9,
     "metadata": {},
     "output_type": "execute_result"
    }
   ],
   "source": [
    "#Gettng the data from the csv file and deleting the columns that are not needed\n",
    "data_address_company_original = pd.read_csv(\"/home/harada/Documents/data/address_data/14_kanagawa_all_20180928.csv\",encoding=\"SHIFT-JIS\", header=None)\n",
    "columns_list = [0,1,2,3,4,5,7,12,13,14,15,16,17,18,19,20,21,22,23,24,25,26,27,28]\n",
    "data_address_company_original = data_address_company_original.drop(columns=columns_list)\n",
    "data_address_company_original.columns = [\"company_name\",\"company_group_id\",\"address_1\",\"address_2\",\"address_3\"]\n",
    "data_address_company_original.head()"
   ]
  },
  {
   "cell_type": "code",
   "execution_count": 10,
   "metadata": {},
   "outputs": [],
   "source": [
    "#Coping the dataset into another variable\n",
    "data_address_company = copy.deepcopy(data_address_company_original)\n",
    "data_address_company = data_address_company.drop([\"address_1\"],axis = 1)"
   ]
  },
  {
   "cell_type": "code",
   "execution_count": 11,
   "metadata": {},
   "outputs": [
    {
     "data": {
      "text/html": [
       "<div>\n",
       "<style scoped>\n",
       "    .dataframe tbody tr th:only-of-type {\n",
       "        vertical-align: middle;\n",
       "    }\n",
       "\n",
       "    .dataframe tbody tr th {\n",
       "        vertical-align: top;\n",
       "    }\n",
       "\n",
       "    .dataframe thead th {\n",
       "        text-align: right;\n",
       "    }\n",
       "</style>\n",
       "<table border=\"1\" class=\"dataframe\">\n",
       "  <thead>\n",
       "    <tr style=\"text-align: right;\">\n",
       "      <th></th>\n",
       "      <th>company_name</th>\n",
       "      <th>company_group_id</th>\n",
       "      <th>address_2</th>\n",
       "      <th>address_3</th>\n",
       "      <th>address</th>\n",
       "      <th>address_english</th>\n",
       "      <th>address_binary</th>\n",
       "    </tr>\n",
       "  </thead>\n",
       "  <tbody>\n",
       "    <tr>\n",
       "      <th>0</th>\n",
       "      <td>藤沢簡易裁判所</td>\n",
       "      <td>101</td>\n",
       "      <td>藤沢市</td>\n",
       "      <td>朝日町１−８</td>\n",
       "      <td>藤沢市朝日町１−８</td>\n",
       "      <td>fujisawashiasahimachi1−8</td>\n",
       "      <td>0110011001110101011010100110100101110011011000...</td>\n",
       "    </tr>\n",
       "    <tr>\n",
       "      <th>1</th>\n",
       "      <td>神奈川県</td>\n",
       "      <td>201</td>\n",
       "      <td>横浜市中区</td>\n",
       "      <td>日本大通１</td>\n",
       "      <td>横浜市中区日本大通１</td>\n",
       "      <td>yokohamashinakakunihondaitoori1</td>\n",
       "      <td>0111100101101111011010110110111101101000011000...</td>\n",
       "    </tr>\n",
       "    <tr>\n",
       "      <th>2</th>\n",
       "      <td>相模原市</td>\n",
       "      <td>201</td>\n",
       "      <td>相模原市中央区</td>\n",
       "      <td>中央２丁目１１−１５</td>\n",
       "      <td>相模原市中央区中央２丁目１１−１５</td>\n",
       "      <td>sagamiharashichuuoukuchuuou2choume11−15</td>\n",
       "      <td>0111001101100001011001110110000101101101011010...</td>\n",
       "    </tr>\n",
       "    <tr>\n",
       "      <th>3</th>\n",
       "      <td>小田原市</td>\n",
       "      <td>201</td>\n",
       "      <td>小田原市</td>\n",
       "      <td>荻窪３００</td>\n",
       "      <td>小田原市荻窪３００</td>\n",
       "      <td>odawarashiogikubo300</td>\n",
       "      <td>0110111101100100011000010111011101100001011100...</td>\n",
       "    </tr>\n",
       "    <tr>\n",
       "      <th>4</th>\n",
       "      <td>茅ヶ崎市</td>\n",
       "      <td>201</td>\n",
       "      <td>茅ヶ崎市</td>\n",
       "      <td>茅ヶ崎１丁目１−１</td>\n",
       "      <td>茅ヶ崎市茅ヶ崎１丁目１−１</td>\n",
       "      <td>chigasakishichigasaki1choume1−1</td>\n",
       "      <td>0110001101101000011010010110011101100001011100...</td>\n",
       "    </tr>\n",
       "  </tbody>\n",
       "</table>\n",
       "</div>"
      ],
      "text/plain": [
       "  company_name  company_group_id address_2   address_3            address  \\\n",
       "0      藤沢簡易裁判所               101       藤沢市      朝日町１−８          藤沢市朝日町１−８   \n",
       "1         神奈川県               201     横浜市中区       日本大通１         横浜市中区日本大通１   \n",
       "2         相模原市               201   相模原市中央区  中央２丁目１１−１５  相模原市中央区中央２丁目１１−１５   \n",
       "3         小田原市               201      小田原市       荻窪３００          小田原市荻窪３００   \n",
       "4         茅ヶ崎市               201      茅ヶ崎市   茅ヶ崎１丁目１−１      茅ヶ崎市茅ヶ崎１丁目１−１   \n",
       "\n",
       "                           address_english  \\\n",
       "0                 fujisawashiasahimachi1−8   \n",
       "1          yokohamashinakakunihondaitoori1   \n",
       "2  sagamiharashichuuoukuchuuou2choume11−15   \n",
       "3                     odawarashiogikubo300   \n",
       "4          chigasakishichigasaki1choume1−1   \n",
       "\n",
       "                                      address_binary  \n",
       "0  0110011001110101011010100110100101110011011000...  \n",
       "1  0111100101101111011010110110111101101000011000...  \n",
       "2  0111001101100001011001110110000101101101011010...  \n",
       "3  0110111101100100011000010111011101100001011100...  \n",
       "4  0110001101101000011010010110011101100001011100...  "
      ]
     },
     "execution_count": 11,
     "metadata": {},
     "output_type": "execute_result"
    }
   ],
   "source": [
    "#making the columns which concats the address data\n",
    "#makes the data into a latin alphabetical letter\n",
    "#the latin alphabet is changed into the binary format\n",
    "address_list = []\n",
    "for i in range(len(data_address_company)):\n",
    "    address_list.append(data_address_company.address_2[i] + data_address_company.address_3[i])\n",
    "address_list = np.array(address_list)\n",
    "data_address_company[\"address\"] = address_list\n",
    "address_english = []\n",
    "for i in data_address_company.address:\n",
    "    address_english.append(conv.do(mojimoji.zen_to_han(i))[:60])\n",
    "address_english = np.array(address_english)\n",
    "data_address_company[\"address_english\"] = address_english\n",
    "address_binary = []\n",
    "for i in data_address_company[\"address_english\"]:\n",
    "    address_binary.append(\"\".join(format(ord(j),\"b\").rjust(8,\"0\") for j in i).ljust(480,\"0\"))\n",
    "address_binary = np.array(address_binary)\n",
    "data_address_company[\"address_binary\"] = address_binary\n",
    "data_address_company = data_address_company.reset_index(drop = True)\n",
    "data_address_company.head()"
   ]
  },
  {
   "cell_type": "code",
   "execution_count": 12,
   "metadata": {},
   "outputs": [],
   "source": [
    "#making the backup of the dataset\n",
    "data_address_company_backup = copy.deepcopy(data_address_company)"
   ]
  },
  {
   "cell_type": "code",
   "execution_count": 13,
   "metadata": {},
   "outputs": [
    {
     "name": "stdout",
     "output_type": "stream",
     "text": [
      "Index(['company_name', 'company_group_id', 'address_2', 'address_3', 'address',\n",
      "       'address_english', 'address_binary', 'address_float_0',\n",
      "       'address_float_value_0', 'address_float_1', 'address_float_value_1',\n",
      "       'address_float_2', 'address_float_value_2', 'address_float_3',\n",
      "       'address_float_value_3', 'address_float_4', 'address_float_value_4',\n",
      "       'address_float_5', 'address_float_value_5', 'address_float_6',\n",
      "       'address_float_value_6', 'address_float_7', 'address_float_value_7',\n",
      "       'address_float_8', 'address_float_value_8', 'address_float_9',\n",
      "       'address_float_value_9'],\n",
      "      dtype='object')\n"
     ]
    },
    {
     "data": {
      "text/html": [
       "<div>\n",
       "<style scoped>\n",
       "    .dataframe tbody tr th:only-of-type {\n",
       "        vertical-align: middle;\n",
       "    }\n",
       "\n",
       "    .dataframe tbody tr th {\n",
       "        vertical-align: top;\n",
       "    }\n",
       "\n",
       "    .dataframe thead th {\n",
       "        text-align: right;\n",
       "    }\n",
       "</style>\n",
       "<table border=\"1\" class=\"dataframe\">\n",
       "  <thead>\n",
       "    <tr style=\"text-align: right;\">\n",
       "      <th></th>\n",
       "      <th>company_name</th>\n",
       "      <th>company_group_id</th>\n",
       "      <th>address_2</th>\n",
       "      <th>address_3</th>\n",
       "      <th>address</th>\n",
       "      <th>address_english</th>\n",
       "      <th>address_binary</th>\n",
       "      <th>address_float_0</th>\n",
       "      <th>address_float_value_0</th>\n",
       "      <th>address_float_1</th>\n",
       "      <th>...</th>\n",
       "      <th>address_float_5</th>\n",
       "      <th>address_float_value_5</th>\n",
       "      <th>address_float_6</th>\n",
       "      <th>address_float_value_6</th>\n",
       "      <th>address_float_7</th>\n",
       "      <th>address_float_value_7</th>\n",
       "      <th>address_float_8</th>\n",
       "      <th>address_float_value_8</th>\n",
       "      <th>address_float_9</th>\n",
       "      <th>address_float_value_9</th>\n",
       "    </tr>\n",
       "  </thead>\n",
       "  <tbody>\n",
       "    <tr>\n",
       "      <th>0</th>\n",
       "      <td>優幸不動産株式会社</td>\n",
       "      <td>301</td>\n",
       "      <td>小田原市</td>\n",
       "      <td>田島１２０４番地</td>\n",
       "      <td>小田原市田島１２０４番地</td>\n",
       "      <td>odawaraichidashima1204banchi</td>\n",
       "      <td>0110111101100100011000010111011101100001011100...</td>\n",
       "      <td>0111111111011011110110010001100001011101110110...</td>\n",
       "      <td>7.822220e+307</td>\n",
       "      <td>0111111111011000010110100101100011011010000110...</td>\n",
       "      <td>...</td>\n",
       "      <td>0000000000000000000000000000000000000000000000...</td>\n",
       "      <td>0.0</td>\n",
       "      <td>0000000000000000000000000000000000000000000000...</td>\n",
       "      <td>0.0</td>\n",
       "      <td>0000000000000000000000000000000000000000000000...</td>\n",
       "      <td>0.0</td>\n",
       "      <td>0000000000000000000000000000000000000000000000...</td>\n",
       "      <td>0.0</td>\n",
       "      <td>0000000000000000000000000000000000000000000000...</td>\n",
       "      <td>0.0</td>\n",
       "    </tr>\n",
       "    <tr>\n",
       "      <th>1</th>\n",
       "      <td>三光興業有限会社</td>\n",
       "      <td>302</td>\n",
       "      <td>小田原市</td>\n",
       "      <td>田島１３５番地</td>\n",
       "      <td>小田原市田島１３５番地</td>\n",
       "      <td>odawaraichidashima135banchi</td>\n",
       "      <td>0110111101100100011000010111011101100001011100...</td>\n",
       "      <td>0111111111011011110110010001100001011101110110...</td>\n",
       "      <td>7.822220e+307</td>\n",
       "      <td>0111111111011000010110100101100011011010000110...</td>\n",
       "      <td>...</td>\n",
       "      <td>0000000000000000000000000000000000000000000000...</td>\n",
       "      <td>0.0</td>\n",
       "      <td>0000000000000000000000000000000000000000000000...</td>\n",
       "      <td>0.0</td>\n",
       "      <td>0000000000000000000000000000000000000000000000...</td>\n",
       "      <td>0.0</td>\n",
       "      <td>0000000000000000000000000000000000000000000000...</td>\n",
       "      <td>0.0</td>\n",
       "      <td>0000000000000000000000000000000000000000000000...</td>\n",
       "      <td>0.0</td>\n",
       "    </tr>\n",
       "    <tr>\n",
       "      <th>2</th>\n",
       "      <td>株式会社シモカワ</td>\n",
       "      <td>301</td>\n",
       "      <td>小田原市</td>\n",
       "      <td>田島９７２番地の１</td>\n",
       "      <td>小田原市田島９７２番地の１</td>\n",
       "      <td>odawaraichidashima972banchino1</td>\n",
       "      <td>0110111101100100011000010111011101100001011100...</td>\n",
       "      <td>0111111111011011110110010001100001011101110110...</td>\n",
       "      <td>7.822220e+307</td>\n",
       "      <td>0111111111011000010110100101100011011010000110...</td>\n",
       "      <td>...</td>\n",
       "      <td>0000000000000000000000000000000000000000000000...</td>\n",
       "      <td>0.0</td>\n",
       "      <td>0000000000000000000000000000000000000000000000...</td>\n",
       "      <td>0.0</td>\n",
       "      <td>0000000000000000000000000000000000000000000000...</td>\n",
       "      <td>0.0</td>\n",
       "      <td>0000000000000000000000000000000000000000000000...</td>\n",
       "      <td>0.0</td>\n",
       "      <td>0000000000000000000000000000000000000000000000...</td>\n",
       "      <td>0.0</td>\n",
       "    </tr>\n",
       "    <tr>\n",
       "      <th>3</th>\n",
       "      <td>ｅライフ株式会社</td>\n",
       "      <td>301</td>\n",
       "      <td>小田原市</td>\n",
       "      <td>田島２５６番地６</td>\n",
       "      <td>小田原市田島２５６番地６</td>\n",
       "      <td>odawaraichidashima256banchi6</td>\n",
       "      <td>0110111101100100011000010111011101100001011100...</td>\n",
       "      <td>0111111111011011110110010001100001011101110110...</td>\n",
       "      <td>7.822220e+307</td>\n",
       "      <td>0111111111011000010110100101100011011010000110...</td>\n",
       "      <td>...</td>\n",
       "      <td>0000000000000000000000000000000000000000000000...</td>\n",
       "      <td>0.0</td>\n",
       "      <td>0000000000000000000000000000000000000000000000...</td>\n",
       "      <td>0.0</td>\n",
       "      <td>0000000000000000000000000000000000000000000000...</td>\n",
       "      <td>0.0</td>\n",
       "      <td>0000000000000000000000000000000000000000000000...</td>\n",
       "      <td>0.0</td>\n",
       "      <td>0000000000000000000000000000000000000000000000...</td>\n",
       "      <td>0.0</td>\n",
       "    </tr>\n",
       "    <tr>\n",
       "      <th>4</th>\n",
       "      <td>有限会社石井精工</td>\n",
       "      <td>302</td>\n",
       "      <td>小田原市</td>\n",
       "      <td>田島６２３番地</td>\n",
       "      <td>小田原市田島６２３番地</td>\n",
       "      <td>odawaraichidashima623banchi</td>\n",
       "      <td>0110111101100100011000010111011101100001011100...</td>\n",
       "      <td>0111111111011011110110010001100001011101110110...</td>\n",
       "      <td>7.822220e+307</td>\n",
       "      <td>0111111111011000010110100101100011011010000110...</td>\n",
       "      <td>...</td>\n",
       "      <td>0000000000000000000000000000000000000000000000...</td>\n",
       "      <td>0.0</td>\n",
       "      <td>0000000000000000000000000000000000000000000000...</td>\n",
       "      <td>0.0</td>\n",
       "      <td>0000000000000000000000000000000000000000000000...</td>\n",
       "      <td>0.0</td>\n",
       "      <td>0000000000000000000000000000000000000000000000...</td>\n",
       "      <td>0.0</td>\n",
       "      <td>0000000000000000000000000000000000000000000000...</td>\n",
       "      <td>0.0</td>\n",
       "    </tr>\n",
       "  </tbody>\n",
       "</table>\n",
       "<p>5 rows × 27 columns</p>\n",
       "</div>"
      ],
      "text/plain": [
       "  company_name  company_group_id address_2  address_3        address  \\\n",
       "0    優幸不動産株式会社               301      小田原市   田島１２０４番地   小田原市田島１２０４番地   \n",
       "1     三光興業有限会社               302      小田原市    田島１３５番地    小田原市田島１３５番地   \n",
       "2     株式会社シモカワ               301      小田原市  田島９７２番地の１  小田原市田島９７２番地の１   \n",
       "3     ｅライフ株式会社               301      小田原市   田島２５６番地６   小田原市田島２５６番地６   \n",
       "4     有限会社石井精工               302      小田原市    田島６２３番地    小田原市田島６２３番地   \n",
       "\n",
       "                  address_english  \\\n",
       "0    odawaraichidashima1204banchi   \n",
       "1     odawaraichidashima135banchi   \n",
       "2  odawaraichidashima972banchino1   \n",
       "3    odawaraichidashima256banchi6   \n",
       "4     odawaraichidashima623banchi   \n",
       "\n",
       "                                      address_binary  \\\n",
       "0  0110111101100100011000010111011101100001011100...   \n",
       "1  0110111101100100011000010111011101100001011100...   \n",
       "2  0110111101100100011000010111011101100001011100...   \n",
       "3  0110111101100100011000010111011101100001011100...   \n",
       "4  0110111101100100011000010111011101100001011100...   \n",
       "\n",
       "                                     address_float_0  address_float_value_0  \\\n",
       "0  0111111111011011110110010001100001011101110110...          7.822220e+307   \n",
       "1  0111111111011011110110010001100001011101110110...          7.822220e+307   \n",
       "2  0111111111011011110110010001100001011101110110...          7.822220e+307   \n",
       "3  0111111111011011110110010001100001011101110110...          7.822220e+307   \n",
       "4  0111111111011011110110010001100001011101110110...          7.822220e+307   \n",
       "\n",
       "                                     address_float_1          ...           \\\n",
       "0  0111111111011000010110100101100011011010000110...          ...            \n",
       "1  0111111111011000010110100101100011011010000110...          ...            \n",
       "2  0111111111011000010110100101100011011010000110...          ...            \n",
       "3  0111111111011000010110100101100011011010000110...          ...            \n",
       "4  0111111111011000010110100101100011011010000110...          ...            \n",
       "\n",
       "                                     address_float_5 address_float_value_5  \\\n",
       "0  0000000000000000000000000000000000000000000000...                   0.0   \n",
       "1  0000000000000000000000000000000000000000000000...                   0.0   \n",
       "2  0000000000000000000000000000000000000000000000...                   0.0   \n",
       "3  0000000000000000000000000000000000000000000000...                   0.0   \n",
       "4  0000000000000000000000000000000000000000000000...                   0.0   \n",
       "\n",
       "                                     address_float_6 address_float_value_6  \\\n",
       "0  0000000000000000000000000000000000000000000000...                   0.0   \n",
       "1  0000000000000000000000000000000000000000000000...                   0.0   \n",
       "2  0000000000000000000000000000000000000000000000...                   0.0   \n",
       "3  0000000000000000000000000000000000000000000000...                   0.0   \n",
       "4  0000000000000000000000000000000000000000000000...                   0.0   \n",
       "\n",
       "                                     address_float_7 address_float_value_7  \\\n",
       "0  0000000000000000000000000000000000000000000000...                   0.0   \n",
       "1  0000000000000000000000000000000000000000000000...                   0.0   \n",
       "2  0000000000000000000000000000000000000000000000...                   0.0   \n",
       "3  0000000000000000000000000000000000000000000000...                   0.0   \n",
       "4  0000000000000000000000000000000000000000000000...                   0.0   \n",
       "\n",
       "                                     address_float_8 address_float_value_8  \\\n",
       "0  0000000000000000000000000000000000000000000000...                   0.0   \n",
       "1  0000000000000000000000000000000000000000000000...                   0.0   \n",
       "2  0000000000000000000000000000000000000000000000...                   0.0   \n",
       "3  0000000000000000000000000000000000000000000000...                   0.0   \n",
       "4  0000000000000000000000000000000000000000000000...                   0.0   \n",
       "\n",
       "                                     address_float_9 address_float_value_9  \n",
       "0  0000000000000000000000000000000000000000000000...                   0.0  \n",
       "1  0000000000000000000000000000000000000000000000...                   0.0  \n",
       "2  0000000000000000000000000000000000000000000000...                   0.0  \n",
       "3  0000000000000000000000000000000000000000000000...                   0.0  \n",
       "4  0000000000000000000000000000000000000000000000...                   0.0  \n",
       "\n",
       "[5 rows x 27 columns]"
      ]
     },
     "execution_count": 13,
     "metadata": {},
     "output_type": "execute_result"
    }
   ],
   "source": [
    "#dividing the binary into 48bits each and changing the 48bits into a float64 value\n",
    "address_float_value = []\n",
    "address_float = []\n",
    "for j in range(0,len(data_address_company.address_binary[0]),48):\n",
    "    tmp_float = []\n",
    "    tmp_float_value = []\n",
    "    for i,data in enumerate(data_address_company.address_binary):\n",
    "        tmp_float.append(binary(np.float64(int(data[j:j+48],2)/(2**48-1)*1.7976931348623157e+308)))\n",
    "        tmp_float_value.append(np.float64(int(data[j:j+48],2)/(2**48-1)*1.7976931348623157e+308))\n",
    "    address_float.append(tmp_float)\n",
    "    address_float_value.append(tmp_float_value)\n",
    "for i in range(len(address_float)):\n",
    "    data_address_company[\"address_float_{}\".format(i)] = address_float[i]\n",
    "    data_address_company[\"address_float_value_{}\".format(i)] = address_float_value[i]\n",
    "print(data_address_company.columns)\n",
    "data_address_company = data_address_company.sort_values(\"address_float_value_1\").reset_index(drop = True)\n",
    "data_address_company.head()"
   ]
  },
  {
   "cell_type": "markdown",
   "metadata": {},
   "source": [
    "## Anonymizing the dataset (k=20)"
   ]
  },
  {
   "cell_type": "code",
   "execution_count": 14,
   "metadata": {},
   "outputs": [],
   "source": [
    "#randomly sample 20000 data inside the dataset\n",
    "#making the backup of the data\n",
    "data_address_company_for_use = copy.deepcopy(data_address_company.sample(20000).sort_index().reset_index(drop = True))\n",
    "while (data_address_company_for_use.address_float_0.value_counts() < 20).any():\n",
    "    data_address_company_for_use = data_address_company.sample(20000).sort_index().reset_index(drop = True)\n",
    "data_address_company_dict_backup = copy.deepcopy(data_address_company_for_use.drop(data_address_company.columns[0:4],axis = 1).T.to_dict())\n",
    "data_address_company_dict = copy.deepcopy(data_address_company_dict_backup)"
   ]
  },
  {
   "cell_type": "code",
   "execution_count": 15,
   "metadata": {},
   "outputs": [
    {
     "name": "stdout",
     "output_type": "stream",
     "text": [
      "0\n"
     ]
    }
   ],
   "source": [
    "#checking if the first 6 letters of the address fulfils the anonymzation or not\n",
    "#this means there is at least k number of data which has the same address\n",
    "data_address_company_dict_1 = make_not_anonymized_list_initial(data_address_company_dict,data_address_company,20)"
   ]
  },
  {
   "cell_type": "code",
   "execution_count": 16,
   "metadata": {},
   "outputs": [
    {
     "name": "stdout",
     "output_type": "stream",
     "text": [
      "2.785268545150757\n",
      "4.377633810043335\n",
      "6.554855823516846\n",
      "5.783883810043335\n",
      "5.146415948867798\n",
      "3.3385281562805176\n",
      "3.1439290046691895\n",
      "2.9404962062835693\n",
      "3.815218687057495\n"
     ]
    }
   ],
   "source": [
    "#checking if the first 6 letters of the address fulfils the anonymzation or not\n",
    "#this means there is at least k number of data which has the same address\n",
    "for i in range(1,10):\n",
    "    start = time.time()\n",
    "    if i == 1:\n",
    "        data_address_company_dict_start = copy.deepcopy(data_address_company_dict_1)\n",
    "    else:\n",
    "        data_address_company_dict_start = copy.deepcopy(data_address_company_anonymized_dict_final)\n",
    "    group_list_tmp = make_group_list(data_address_company_dict_start,i)\n",
    "    not_anonymized_and_group_list = make_not_anonymized_and_group_list(data_address_company_dict_start,group_list_tmp,20)\n",
    "    anonymized_group_list,data_address_company_anonymized_dict_final = make_anonymized_group_list(not_anonymized_and_group_list[0],not_anonymized_and_group_list[1],data_address_company_dict_start,20,i)\n",
    "    data_address_company_anonymized_dict_final = make_anonymized_data_dict(anonymized_group_list,data_address_company_anonymized_dict_final,64,i)\n",
    "    print(time.time()-start)"
   ]
  },
  {
   "cell_type": "markdown",
   "metadata": {},
   "source": [
    "### validation for each addres_float that there is at least k number of data with the same float value"
   ]
  },
  {
   "cell_type": "code",
   "execution_count": 17,
   "metadata": {},
   "outputs": [],
   "source": [
    "result = [[data_address_company_anonymized_dict_final[i][\"address_float_{}\".format(j)] for i in range(len(data_address_company_anonymized_dict_final))]for j in range(10)]"
   ]
  },
  {
   "cell_type": "code",
   "execution_count": 40,
   "metadata": {},
   "outputs": [
    {
     "data": {
      "text/plain": [
       "[('0111111111011011100110000101101011011000010110011101110101011011', 110),\n",
       " ('0111111111011011010110100101110101011100100110000101110011011010', 98),\n",
       " ('0111111111011011010110100101110101011100100110000101100111011010', 93),\n",
       " ('0111111111011010110110111101110101011110100110000101100111011010', 82),\n",
       " ('0111111111011011010110100101101110011000010110110101101001011010', 66)]"
      ]
     },
     "execution_count": 40,
     "metadata": {},
     "output_type": "execute_result"
    }
   ],
   "source": [
    "Counter(result[0]).most_common()[-5:]"
   ]
  },
  {
   "cell_type": "code",
   "execution_count": 41,
   "metadata": {},
   "outputs": [
    {
     "data": {
      "text/plain": [
       "[('0111111111011100110110100001101001011011010110111101110000000000', 21),\n",
       " ('0111111111011010000110100101101111011000000000000000000000000000', 20),\n",
       " ('0111111111011010000110100101111001011011110111001101101000011001', 20),\n",
       " ('0111111111011100100110000101110011011010000110100101111010011100', 20),\n",
       " ('0111111111011100110110100001101001011011100000000000000000000000', 20)]"
      ]
     },
     "execution_count": 41,
     "metadata": {},
     "output_type": "execute_result"
    }
   ],
   "source": [
    "Counter(result[1]).most_common()[-5:]"
   ]
  },
  {
   "cell_type": "code",
   "execution_count": 42,
   "metadata": {},
   "outputs": [
    {
     "data": {
      "text/plain": [
       "[('0111111111011100110110111101110101011010110111010101110100011100', 21),\n",
       " ('0111111111011010010110111101101011011000010000000000000000000000', 20),\n",
       " ('0111111111011000010110100101101101011011110110101101110101010111', 20),\n",
       " ('0111111111011000010110110101101001001100000000000000000000000000', 20),\n",
       " ('0111111111011011110110111001101011011101010110011101100101011011', 20)]"
      ]
     },
     "execution_count": 42,
     "metadata": {},
     "output_type": "execute_result"
    }
   ],
   "source": [
    "Counter(result[2]).most_common()[-5:]"
   ]
  },
  {
   "cell_type": "code",
   "execution_count": 43,
   "metadata": {
    "scrolled": true
   },
   "outputs": [
    {
     "data": {
      "text/plain": [
       "[('0111111111011010010110101101110101011010000110000101101101011001', 20),\n",
       " ('0111111111011000010110101101110101011010110110100101100000000000', 20),\n",
       " ('0111111111011000010110101101110101011010000000000000000000000000', 20),\n",
       " ('0111111111011110100110000100110000000000000000000000000000000000', 20),\n",
       " ('0111111111011011100111010101101101011000010011000000000000000000', 20)]"
      ]
     },
     "execution_count": 43,
     "metadata": {},
     "output_type": "execute_result"
    }
   ],
   "source": [
    "Counter(result[3]).most_common()[-5:]"
   ]
  },
  {
   "cell_type": "code",
   "execution_count": 44,
   "metadata": {},
   "outputs": [
    {
     "data": {
      "text/plain": [
       "[('0111111111011101010111010101110010011000010011000000000000000000', 21),\n",
       " ('0111111111011101000110000000000000000000000000000000000000000000', 21),\n",
       " ('0111111111011000010111001001101001011101000110000100110000000000', 20),\n",
       " ('0111111111011010010110111001101111011101110110000101101101011001', 20),\n",
       " ('0111111111011000110110100001101001011110010111010101101101011000', 20)]"
      ]
     },
     "execution_count": 44,
     "metadata": {},
     "output_type": "execute_result"
    }
   ],
   "source": [
    "Counter(result[4]).most_common()[-5:]"
   ]
  },
  {
   "cell_type": "code",
   "execution_count": 45,
   "metadata": {},
   "outputs": [
    {
     "data": {
      "text/plain": [
       "[('0111111111011011110111010100110000000000000000000000000000000000', 21),\n",
       " ('0111111111011010010110110101100001011000110110100001101001011001', 21),\n",
       " ('0111111111011000010110001101101000011010010011010000000000000000', 20),\n",
       " ('0111111111011010110110100101100011011010000111010101110101011010', 20),\n",
       " ('0111111111011011110111010001101111000000000000000000000000000000', 20)]"
      ]
     },
     "execution_count": 45,
     "metadata": {},
     "output_type": "execute_result"
    }
   ],
   "source": [
    "Counter(result[5]).most_common()[-5:]"
   ]
  },
  {
   "cell_type": "code",
   "execution_count": 46,
   "metadata": {},
   "outputs": [
    {
     "data": {
      "text/plain": [
       "[('0111111111011000010000000000000000000000000000000000000000000000', 41),\n",
       " ('0111111111011000110110100001101001001100000000000000000000000000', 32),\n",
       " ('0111111111011000110110100001101001000000000000000000000000000000', 25),\n",
       " ('0111111111001000000000000000000000000000000000000000000000000000', 21),\n",
       " ('0111111111011011110111010100110000000000000000000000000000000000', 20)]"
      ]
     },
     "execution_count": 46,
     "metadata": {},
     "output_type": "execute_result"
    }
   ],
   "source": [
    "Counter(result[6]).most_common()[-5:]"
   ]
  },
  {
   "cell_type": "code",
   "execution_count": 47,
   "metadata": {},
   "outputs": [
    {
     "data": {
      "text/plain": [
       "[('0000000000000000000000000000000000000000000000000000000000000000', 20000)]"
      ]
     },
     "execution_count": 47,
     "metadata": {},
     "output_type": "execute_result"
    }
   ],
   "source": [
    "Counter(result[7]).most_common()"
   ]
  },
  {
   "cell_type": "code",
   "execution_count": 48,
   "metadata": {},
   "outputs": [
    {
     "data": {
      "text/plain": [
       "[('0000000000000000000000000000000000000000000000000000000000000000', 20000)]"
      ]
     },
     "execution_count": 48,
     "metadata": {},
     "output_type": "execute_result"
    }
   ],
   "source": [
    "Counter(result[8]).most_common()"
   ]
  },
  {
   "cell_type": "code",
   "execution_count": 49,
   "metadata": {},
   "outputs": [
    {
     "data": {
      "text/plain": [
       "[('0000000000000000000000000000000000000000000000000000000000000000', 20000)]"
      ]
     },
     "execution_count": 49,
     "metadata": {},
     "output_type": "execute_result"
    }
   ],
   "source": [
    "Counter(result[9]).most_common()"
   ]
  },
  {
   "cell_type": "markdown",
   "metadata": {},
   "source": [
    "## float representaiton back to the string representation for validation"
   ]
  },
  {
   "cell_type": "code",
   "execution_count": 28,
   "metadata": {},
   "outputs": [],
   "source": [
    "#changing the float representation to a numeric value\n",
    "address_float_value_anonymized = []\n",
    "for i in range(10):\n",
    "    tmp_list = [data_address_company_anonymized_dict_final[j][\"address_float_{}\".format(i)] for j in range(len(data_address_company_anonymized_dict_final))]\n",
    "    tmp = []\n",
    "    for j in tmp_list:\n",
    "        tmp.append(float_to_num(j))\n",
    "    address_float_value_anonymized.append(tmp)"
   ]
  },
  {
   "cell_type": "code",
   "execution_count": 29,
   "metadata": {},
   "outputs": [],
   "source": [
    "#changing the float number back into the int value and to the binary representation\n",
    "address_int_anonymized = []\n",
    "for j in range(len(address_float_value_anonymized[0])):\n",
    "    for x,i in enumerate(address_float_value_anonymized):\n",
    "        if x == 0:\n",
    "            tmp = bin(int(i[j]/np.float64(1.7976931348623157e+308)*np.float64(2**48-1))).replace(\"b\",\"\").rjust(48,\"0\")\n",
    "        else:\n",
    "            tmp += bin(int(i[j]/np.float64(1.7976931348623157e+308)*np.float64(2**48-1))).replace(\"b\",\"\").rjust(48,\"0\")\n",
    "            #print(tmp)\n",
    "    address_int_anonymized.append(tmp)"
   ]
  },
  {
   "cell_type": "code",
   "execution_count": 30,
   "metadata": {},
   "outputs": [],
   "source": [
    "#changing the binary representation back to the string representaion\n",
    "address_anonymized = []\n",
    "for i in address_int_anonymized:\n",
    "    for j in range(0,len(i),8):\n",
    "        if j == 0:\n",
    "            tmp = chr(int(i[j:j+8],2))\n",
    "        else:\n",
    "            if chr(int(i[j:j+8],2)) != \"ÿ\":\n",
    "                tmp+=chr(int(i[j:j+8],2))\n",
    "    address_anonymized.append(tmp[:tmp.find(\"\\x00\")])"
   ]
  },
  {
   "cell_type": "markdown",
   "metadata": {},
   "source": [
    "### validation that there is at least k number of raws which has the same address "
   ]
  },
  {
   "cell_type": "code",
   "execution_count": 50,
   "metadata": {},
   "outputs": [
    {
     "data": {
      "text/plain": [
       "[('ashigarashimogunhakonemachiyumotn', 20),\n",
       " ('kamakurashizaimokuza/', 20),\n",
       " ('yamatoshifukami/', 20),\n",
       " ('hatanoshim', 20),\n",
       " ('fujisawashihonkugenuma/', 20)]"
      ]
     },
     "execution_count": 50,
     "metadata": {},
     "output_type": "execute_result"
    }
   ],
   "source": [
    "Counter(address_anonymized).most_common()[-5:]"
   ]
  },
  {
   "cell_type": "code",
   "execution_count": 31,
   "metadata": {},
   "outputs": [
    {
     "data": {
      "text/html": [
       "<div>\n",
       "<style scoped>\n",
       "    .dataframe tbody tr th:only-of-type {\n",
       "        vertical-align: middle;\n",
       "    }\n",
       "\n",
       "    .dataframe tbody tr th {\n",
       "        vertical-align: top;\n",
       "    }\n",
       "\n",
       "    .dataframe thead th {\n",
       "        text-align: right;\n",
       "    }\n",
       "</style>\n",
       "<table border=\"1\" class=\"dataframe\">\n",
       "  <thead>\n",
       "    <tr style=\"text-align: right;\">\n",
       "      <th></th>\n",
       "      <th>raw</th>\n",
       "      <th>address_english_anonymized</th>\n",
       "    </tr>\n",
       "  </thead>\n",
       "  <tbody>\n",
       "    <tr>\n",
       "      <th>15865</th>\n",
       "      <td>yokohamashitsurumikuushiodamachi4choume150banc...</td>\n",
       "      <td>yokohamashitsurumikuushiodak</td>\n",
       "    </tr>\n",
       "    <tr>\n",
       "      <th>2955</th>\n",
       "      <td>ayaseshitadekawa2choume12ban28gou</td>\n",
       "      <td>ayaseshi_</td>\n",
       "    </tr>\n",
       "    <tr>\n",
       "      <th>18522</th>\n",
       "      <td>hiratsukashiminamikaneme732banchino4</td>\n",
       "      <td>hiratsukashimg</td>\n",
       "    </tr>\n",
       "    <tr>\n",
       "      <th>831</th>\n",
       "      <td>odawarashinishisakou1choume3ban8gou</td>\n",
       "      <td>odawarashin_</td>\n",
       "    </tr>\n",
       "    <tr>\n",
       "      <th>3960</th>\n",
       "      <td>yokosukashiurasatomachi4choume8−3</td>\n",
       "      <td>yokosukashis</td>\n",
       "    </tr>\n",
       "    <tr>\n",
       "      <th>4705</th>\n",
       "      <td>kawasakishikawasakikuasada2choume4ban11gou</td>\n",
       "      <td>kawasakishikawasakikuasa_</td>\n",
       "    </tr>\n",
       "    <tr>\n",
       "      <th>5586</th>\n",
       "      <td>kawasakishinakaharakuidanakaﾉmachi33ban5−203gou</td>\n",
       "      <td>kawasakishinakaharakui_</td>\n",
       "    </tr>\n",
       "    <tr>\n",
       "      <th>18402</th>\n",
       "      <td>hiratsukashiokazaki4053banchi</td>\n",
       "      <td>hiratsukashiog</td>\n",
       "    </tr>\n",
       "    <tr>\n",
       "      <th>9842</th>\n",
       "      <td>yokohamashikanazawakuteramae1choume9ban11gou</td>\n",
       "      <td>yokohamashikanazawakut_</td>\n",
       "    </tr>\n",
       "    <tr>\n",
       "      <th>2682</th>\n",
       "      <td>ebinashikokubunkita2choume18ban56gou</td>\n",
       "      <td>ebinashikokubum</td>\n",
       "    </tr>\n",
       "    <tr>\n",
       "      <th>3086</th>\n",
       "      <td>zushishizushi3choume2ban33gou</td>\n",
       "      <td>zushishiw</td>\n",
       "    </tr>\n",
       "    <tr>\n",
       "      <th>12835</th>\n",
       "      <td>yokohamashinakakuhonmokuarai78banchi</td>\n",
       "      <td>yokohamashinakakuho_</td>\n",
       "    </tr>\n",
       "    <tr>\n",
       "      <th>10447</th>\n",
       "      <td>yokohamashikanagawakukanagawa2choume19banchi7ﾚ...</td>\n",
       "      <td>yokohamashikanagawakukak</td>\n",
       "    </tr>\n",
       "    <tr>\n",
       "      <th>17026</th>\n",
       "      <td>kamakurashizaimokuza3choume1ban31gou</td>\n",
       "      <td>kamakurashizaimokuza/</td>\n",
       "    </tr>\n",
       "    <tr>\n",
       "      <th>1304</th>\n",
       "      <td>sagamiharashiminamikuasamizodai2choume9ban17gou</td>\n",
       "      <td>sagamiharashiminamiku_</td>\n",
       "    </tr>\n",
       "    <tr>\n",
       "      <th>698</th>\n",
       "      <td>odawarashikamomiya206banchi</td>\n",
       "      <td>odawarashika_</td>\n",
       "    </tr>\n",
       "    <tr>\n",
       "      <th>12291</th>\n",
       "      <td>yokohamashiminatokitakukikuna1choume9ban31gou</td>\n",
       "      <td>yokohamashiminatokitakuki_</td>\n",
       "    </tr>\n",
       "    <tr>\n",
       "      <th>12217</th>\n",
       "      <td>yokohamashiminatokitakuookurayama6choume29ban3...</td>\n",
       "      <td>yokohamashiminatokitakum</td>\n",
       "    </tr>\n",
       "    <tr>\n",
       "      <th>6108</th>\n",
       "      <td>kawasakishisaiwaikuminamikase2choume1ban32gou</td>\n",
       "      <td>kawasakishisaiwaikuminamikase/</td>\n",
       "    </tr>\n",
       "    <tr>\n",
       "      <th>9270</th>\n",
       "      <td>yokohamashikanagawakumatsumimachi4choume944ban...</td>\n",
       "      <td>yokohamashikanagawakum_</td>\n",
       "    </tr>\n",
       "  </tbody>\n",
       "</table>\n",
       "</div>"
      ],
      "text/plain": [
       "                                                     raw  \\\n",
       "15865  yokohamashitsurumikuushiodamachi4choume150banc...   \n",
       "2955                   ayaseshitadekawa2choume12ban28gou   \n",
       "18522               hiratsukashiminamikaneme732banchino4   \n",
       "831                  odawarashinishisakou1choume3ban8gou   \n",
       "3960                   yokosukashiurasatomachi4choume8−3   \n",
       "4705          kawasakishikawasakikuasada2choume4ban11gou   \n",
       "5586     kawasakishinakaharakuidanakaﾉmachi33ban5−203gou   \n",
       "18402                      hiratsukashiokazaki4053banchi   \n",
       "9842        yokohamashikanazawakuteramae1choume9ban11gou   \n",
       "2682                ebinashikokubunkita2choume18ban56gou   \n",
       "3086                       zushishizushi3choume2ban33gou   \n",
       "12835               yokohamashinakakuhonmokuarai78banchi   \n",
       "10447  yokohamashikanagawakukanagawa2choume19banchi7ﾚ...   \n",
       "17026               kamakurashizaimokuza3choume1ban31gou   \n",
       "1304     sagamiharashiminamikuasamizodai2choume9ban17gou   \n",
       "698                          odawarashikamomiya206banchi   \n",
       "12291      yokohamashiminatokitakukikuna1choume9ban31gou   \n",
       "12217  yokohamashiminatokitakuookurayama6choume29ban3...   \n",
       "6108       kawasakishisaiwaikuminamikase2choume1ban32gou   \n",
       "9270   yokohamashikanagawakumatsumimachi4choume944ban...   \n",
       "\n",
       "           address_english_anonymized  \n",
       "15865    yokohamashitsurumikuushiodak  \n",
       "2955                        ayaseshi_  \n",
       "18522                  hiratsukashimg  \n",
       "831                      odawarashin_  \n",
       "3960                     yokosukashis  \n",
       "4705        kawasakishikawasakikuasa_  \n",
       "5586          kawasakishinakaharakui_  \n",
       "18402                  hiratsukashiog  \n",
       "9842          yokohamashikanazawakut_  \n",
       "2682                  ebinashikokubum  \n",
       "3086                        zushishiw  \n",
       "12835            yokohamashinakakuho_  \n",
       "10447        yokohamashikanagawakukak  \n",
       "17026           kamakurashizaimokuza/  \n",
       "1304           sagamiharashiminamiku_  \n",
       "698                     odawarashika_  \n",
       "12291      yokohamashiminatokitakuki_  \n",
       "12217        yokohamashiminatokitakum  \n",
       "6108   kawasakishisaiwaikuminamikase/  \n",
       "9270          yokohamashikanagawakum_  "
      ]
     },
     "execution_count": 31,
     "metadata": {},
     "output_type": "execute_result"
    }
   ],
   "source": [
    "#making the dataframe which has the raw address and the anonymized address\n",
    "data_anonymized_final = pd.DataFrame(np.array([data_address_company_anonymized_dict_final[i][\"address_english\"] for i in range(len(data_address_company_anonymized_dict_final))]),columns=[\"raw\"])\n",
    "data_anonymized_final[\"address_english_anonymized\"] = address_anonymized\n",
    "#shows randomly chosed 20 raws of the dataframe\n",
    "data_anonymized_final.sample(20)"
   ]
  }
 ],
 "metadata": {
  "kernelspec": {
   "display_name": "Python 3",
   "language": "python",
   "name": "python3"
  },
  "language_info": {
   "codemirror_mode": {
    "name": "ipython",
    "version": 3
   },
   "file_extension": ".py",
   "mimetype": "text/x-python",
   "name": "python",
   "nbconvert_exporter": "python",
   "pygments_lexer": "ipython3",
   "version": "3.6.5"
  }
 },
 "nbformat": 4,
 "nbformat_minor": 2
}
